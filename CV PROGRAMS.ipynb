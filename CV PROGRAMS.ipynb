{
 "cells": [
  {
   "cell_type": "markdown",
   "metadata": {},
   "source": [
    "# # 3rd"
   ]
  },
  {
   "cell_type": "code",
   "execution_count": 1,
   "metadata": {},
   "outputs": [],
   "source": [
    "import cv2\n",
    "  \n",
    "img_org = cv2.imread('C:/Users/RITIK/Desktop/photo/lee25.jpg')\n",
    "grayimg = cv2.cvtColor(img_org, cv2.COLOR_BGR2GRAY)\n",
    "\n",
    "  \n",
    "(thresh, blackAndWhiteImage) = cv2.threshold(grayimg, 150, 250, cv2.THRESH_BINARY)\n",
    "\n",
    "cv2.imshow('Black white image', blackAndWhiteImage)\n",
    "cv2.imshow('Original image',img_org)\n",
    "cv2.imshow('Gray image', grayimg)\n",
    "\n",
    "\n",
    "\n",
    "img_org[:,:,1] = 0\n",
    "img_org[:,:,2] = 0\n",
    "cv2.imshow('blue', img_org)\n",
    "cv2.waitKey(0)\n",
    "cv2.destroyAllWindows()"
   ]
  },
  {
   "cell_type": "markdown",
   "metadata": {},
   "source": [
    "# # 4th"
   ]
  },
  {
   "cell_type": "code",
   "execution_count": null,
   "metadata": {},
   "outputs": [
    {
     "name": "stdout",
     "output_type": "stream",
     "text": [
      "7\n"
     ]
    }
   ],
   "source": [
    "import cv2 \n",
    "har = cv2.CascadeClassifier('C:/Users/RITIK/Downloads/opencv-master/opencv-master/data/haarcascades/haarcascade_frontalface_default.xml')\n",
    "img = cv2.imread('Desktop/people.jpg')\n",
    "\n",
    "faces = har.detectMultiScale(img, 1.1, 4)\n",
    "for (x, y, w, h) in faces:\n",
    "    cv2.rectangle(img, (x, y), (x + w, y + h), (255, 0, 0), 2)\n",
    "    if cv2.waitKey(1)==27:\n",
    "            break\n",
    "print(len(faces))\n",
    "\n",
    "cv2.imshow('img', img)\n",
    "cv2.waitKey(0)\n",
    "cv2.destroyAllWindows()"
   ]
  },
  {
   "cell_type": "markdown",
   "metadata": {},
   "source": [
    "# # 5th"
   ]
  },
  {
   "cell_type": "code",
   "execution_count": null,
   "metadata": {},
   "outputs": [],
   "source": [
    "import cv2 \n",
    "\n",
    "img = cv2.imread('C:/Users/RITIK/Desktop/photo/lee17.jpg') \n",
    "\n",
    "img[:,:,0]=img[:,:,0]*-1\n",
    "img[:,:,1]=img[:,:,1]*-1\n",
    "img[:,:,2]=img[:,:,2]*-1\n",
    "\n",
    "\n",
    "\n",
    "cv2.imshow('img', img)\n",
    "cv2.waitKey(0)\n",
    "cv2.destroyAllWindows()"
   ]
  },
  {
   "cell_type": "code",
   "execution_count": null,
   "metadata": {},
   "outputs": [],
   "source": []
  }
 ],
 "metadata": {
  "kernelspec": {
   "display_name": "Python 3",
   "language": "python",
   "name": "python3"
  },
  "language_info": {
   "codemirror_mode": {
    "name": "ipython",
    "version": 3
   },
   "file_extension": ".py",
   "mimetype": "text/x-python",
   "name": "python",
   "nbconvert_exporter": "python",
   "pygments_lexer": "ipython3",
   "version": "3.7.4"
  }
 },
 "nbformat": 4,
 "nbformat_minor": 2
}
